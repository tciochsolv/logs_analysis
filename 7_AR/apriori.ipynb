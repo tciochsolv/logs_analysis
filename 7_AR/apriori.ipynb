{
 "cells": [
  {
   "cell_type": "code",
   "execution_count": 1,
   "metadata": {},
   "outputs": [],
   "source": [
    "import pandas as pd\n",
    "from mlxtend.preprocessing import TransactionEncoder\n",
    "from mlxtend.frequent_patterns import apriori, association_rules\n",
    "from sklearn.preprocessing import KBinsDiscretizer\n",
    "import numpy as np\n",
    "from sklearn.preprocessing import StandardScaler\n",
    "\n",
    "path = \"../../dane/8CPU_20RAM/3600s/2repl/merged.csv\""
   ]
  },
  {
   "attachments": {},
   "cell_type": "markdown",
   "metadata": {},
   "source": [
    "### Wczytanie danych"
   ]
  },
  {
   "cell_type": "code",
   "execution_count": 2,
   "metadata": {},
   "outputs": [],
   "source": [
    "data = pd.read_csv(path)\n",
    "data = data.drop('replicaId', axis=1)\n",
    "data = data.drop([\"applicationTime_methods\", \"databaseTime_methods\", \"databaseTime_trading\", \n",
    "                  \"applicationTime_trading\", \"timestamp\"], axis=1)"
   ]
  },
  {
   "attachments": {},
   "cell_type": "markdown",
   "metadata": {},
   "source": [
    "### Normalizacja danych"
   ]
  },
  {
   "cell_type": "code",
   "execution_count": 3,
   "metadata": {},
   "outputs": [],
   "source": [
    "endpoint_map = {\n",
    "    'do-register': 0,\n",
    "    'add-sell-offer': 1,\n",
    "    'add-buy-offer': 2,\n",
    "    'get-stock-data': 3,\n",
    "    'add-company': 4,\n",
    "    'get-stock-users-and-companies': 5\n",
    "}\n",
    "data['endpointUrl_methods'] = data['endpointUrl_methods'].replace(endpoint_map)\n",
    "\n",
    "data['cpuUsage_stock'] = round(data['cpuUsage_stock'], 2)\n",
    "data['memoryUsage_stock'] = round(data['memoryUsage_stock'], 2)\n",
    "data['cpuUsage_traffic'] = round(data['cpuUsage_traffic'], 2)\n",
    "data['memoryUsage_traffic'] = round(data['memoryUsage_traffic'], 2)"
   ]
  },
  {
   "attachments": {},
   "cell_type": "markdown",
   "metadata": {},
   "source": [
    "### Dyskretyzacja wartości ciągłych"
   ]
  },
  {
   "cell_type": "code",
   "execution_count": 4,
   "metadata": {},
   "outputs": [],
   "source": [
    "transformer = KBinsDiscretizer(encode='onehot-dense', strategy='kmeans' , n_bins=5)\n",
    "df_discret = pd.DataFrame(transformer.fit_transform(data).astype(np.int8))"
   ]
  },
  {
   "attachments": {},
   "cell_type": "markdown",
   "metadata": {},
   "source": [
    "### Utworzenie nowych nazw cech"
   ]
  },
  {
   "cell_type": "code",
   "execution_count": 5,
   "metadata": {},
   "outputs": [],
   "source": [
    "df_discret.columns = [\n",
    "    f\"{data.columns[idx]}: {round(edge, 4)} - {round(next_edge, 4)}\"\n",
    "    for idx, edges in enumerate(transformer.bin_edges_)\n",
    "    for edge, next_edge in zip(edges, edges[1:])\n",
    "]\n",
    "\n",
    "# Wyrzucenie zdyskretyzowanych cech o zerowej wariancji:\n",
    "df_discret = df_discret.loc[:, (df_discret.var() != 0)]"
   ]
  },
  {
   "attachments": {},
   "cell_type": "markdown",
   "metadata": {},
   "source": [
    "### Apriori"
   ]
  },
  {
   "cell_type": "code",
   "execution_count": 7,
   "metadata": {},
   "outputs": [
    {
     "name": "stderr",
     "output_type": "stream",
     "text": [
      "c:\\Users\\tomas\\AppData\\Local\\Programs\\Python\\Python311\\Lib\\site-packages\\mlxtend\\frequent_patterns\\fpcommon.py:110: DeprecationWarning: DataFrames with non-bool types result in worse computationalperformance and their support might be discontinued in the future.Please use a DataFrame with bool type\n",
      "  warnings.warn(\n"
     ]
    }
   ],
   "source": [
    "\n",
    "test = association_rules(apriori(df_discret, min_support=0.1, use_colnames=True, max_len=4), metric='lift').sort_values(by='lift', ascending=False)\n",
    "\n",
    "test\n",
    "\n",
    "test.to_excel(\"test.xlsx\", index=False)"
   ]
  }
 ],
 "metadata": {
  "kernelspec": {
   "display_name": "Python 3",
   "language": "python",
   "name": "python3"
  },
  "language_info": {
   "codemirror_mode": {
    "name": "ipython",
    "version": 3
   },
   "file_extension": ".py",
   "mimetype": "text/x-python",
   "name": "python",
   "nbconvert_exporter": "python",
   "pygments_lexer": "ipython3",
   "version": "3.11.3"
  },
  "orig_nbformat": 4
 },
 "nbformat": 4,
 "nbformat_minor": 2
}
