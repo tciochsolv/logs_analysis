{
 "cells": [
  {
   "cell_type": "code",
   "execution_count": 1,
   "metadata": {},
   "outputs": [],
   "source": [
    "import pandas as pd\n",
    "from sklearn.preprocessing import StandardScaler, LabelEncoder\n",
    "from keras.utils import np_utils\n",
    "from sklearn.model_selection import train_test_split\n",
    "import numpy as np\n",
    "from tensorflow.keras.models import Sequential\n",
    "from tensorflow.keras.layers import GRU, LSTM, Dense, TimeDistributed\n",
    "import matplotlib.pyplot as plt\n",
    "\n",
    "path = \"../../dane/8CPU_20RAM/3600s/few_merged.csv\""
   ]
  },
  {
   "cell_type": "code",
   "execution_count": 2,
   "metadata": {},
   "outputs": [],
   "source": [
    "# Załaduj dane\n",
    "df = pd.read_csv(path)"
   ]
  },
  {
   "cell_type": "code",
   "execution_count": 3,
   "metadata": {},
   "outputs": [],
   "source": [
    "df = pd.get_dummies(df, columns=['endpointUrl_methods'])"
   ]
  },
  {
   "cell_type": "code",
   "execution_count": 4,
   "metadata": {},
   "outputs": [],
   "source": [
    "boolean_columns = [col for col in df.columns if 'endpointUrl_methods' in col]\n",
    "df[boolean_columns] = df[boolean_columns].astype(float)"
   ]
  },
  {
   "cell_type": "code",
   "execution_count": 5,
   "metadata": {},
   "outputs": [
    {
     "data": {
      "text/html": [
       "<div>\n",
       "<style scoped>\n",
       "    .dataframe tbody tr th:only-of-type {\n",
       "        vertical-align: middle;\n",
       "    }\n",
       "\n",
       "    .dataframe tbody tr th {\n",
       "        vertical-align: top;\n",
       "    }\n",
       "\n",
       "    .dataframe thead th {\n",
       "        text-align: right;\n",
       "    }\n",
       "</style>\n",
       "<table border=\"1\" class=\"dataframe\">\n",
       "  <thead>\n",
       "    <tr style=\"text-align: right;\">\n",
       "      <th></th>\n",
       "      <th>cpuUsage_stock</th>\n",
       "    </tr>\n",
       "  </thead>\n",
       "  <tbody>\n",
       "    <tr>\n",
       "      <th>0</th>\n",
       "      <td>0.445614</td>\n",
       "    </tr>\n",
       "    <tr>\n",
       "      <th>1</th>\n",
       "      <td>0.445649</td>\n",
       "    </tr>\n",
       "    <tr>\n",
       "      <th>2</th>\n",
       "      <td>0.445649</td>\n",
       "    </tr>\n",
       "    <tr>\n",
       "      <th>3</th>\n",
       "      <td>0.445609</td>\n",
       "    </tr>\n",
       "    <tr>\n",
       "      <th>4</th>\n",
       "      <td>0.445649</td>\n",
       "    </tr>\n",
       "    <tr>\n",
       "      <th>...</th>\n",
       "      <td>...</td>\n",
       "    </tr>\n",
       "    <tr>\n",
       "      <th>2879374</th>\n",
       "      <td>0.217462</td>\n",
       "    </tr>\n",
       "    <tr>\n",
       "      <th>2879375</th>\n",
       "      <td>0.217434</td>\n",
       "    </tr>\n",
       "    <tr>\n",
       "      <th>2879376</th>\n",
       "      <td>0.217434</td>\n",
       "    </tr>\n",
       "    <tr>\n",
       "      <th>2879377</th>\n",
       "      <td>0.217462</td>\n",
       "    </tr>\n",
       "    <tr>\n",
       "      <th>2879378</th>\n",
       "      <td>0.217462</td>\n",
       "    </tr>\n",
       "  </tbody>\n",
       "</table>\n",
       "<p>2879379 rows × 1 columns</p>\n",
       "</div>"
      ],
      "text/plain": [
       "         cpuUsage_stock\n",
       "0              0.445614\n",
       "1              0.445649\n",
       "2              0.445649\n",
       "3              0.445609\n",
       "4              0.445649\n",
       "...                 ...\n",
       "2879374        0.217462\n",
       "2879375        0.217434\n",
       "2879376        0.217434\n",
       "2879377        0.217462\n",
       "2879378        0.217462\n",
       "\n",
       "[2879379 rows x 1 columns]"
      ]
     },
     "execution_count": 5,
     "metadata": {},
     "output_type": "execute_result"
    }
   ],
   "source": [
    "df[['cpuUsage_stock']]"
   ]
  },
  {
   "cell_type": "code",
   "execution_count": 6,
   "metadata": {},
   "outputs": [],
   "source": [
    "scaler1 = StandardScaler()\n",
    "scaler2 = StandardScaler()\n",
    "scaler3 = StandardScaler()\n",
    "# df[['cpuUsage_stock']] = scaler1.fit_transform(df[['cpuUsage_stock']])\n",
    "df[['memoryUsage_stock']] = scaler1.fit_transform(df[['memoryUsage_stock']])\n",
    "df[['timestamp']] = scaler3.fit_transform(df[['timestamp']])\n"
   ]
  },
  {
   "cell_type": "code",
   "execution_count": 7,
   "metadata": {},
   "outputs": [],
   "source": [
    "# Kodowanie pudełek\n",
    "le = LabelEncoder()\n",
    "df['test'] = le.fit_transform(df['test'])"
   ]
  },
  {
   "cell_type": "code",
   "execution_count": 8,
   "metadata": {},
   "outputs": [],
   "source": [
    "# Filtracja wierszy gdzie test = 0\n",
    "df_filtered = df.loc[df['test'] == 0]\n",
    "\n",
    "# Usunięcie kolumny \"test\"\n",
    "df_filtered = df_filtered.drop('test', axis=1)\n"
   ]
  },
  {
   "cell_type": "code",
   "execution_count": 9,
   "metadata": {},
   "outputs": [],
   "source": [
    "# Wybranie tylko tych kolumn, które są potrzebne\n",
    "features = df_filtered[[col for col in df.columns if 'endpointUrl_methods' in col]]\n",
    "targets = df_filtered[[ 'cpuUsage_stock', 'memoryUsage_stock']]\n",
    "targets = df_filtered[[ 'cpuUsage_stock']]\n"
   ]
  },
  {
   "cell_type": "code",
   "execution_count": 10,
   "metadata": {},
   "outputs": [],
   "source": [
    "window_size = 1000  # Rozmiar okna\n",
    "smoothed_data = targets['cpuUsage_stock'].rolling(window_size, min_periods=1).mean()\n",
    "\n",
    "# Tworzenie nowego DataFrame z wygładzonymi danymi\n",
    "df_smoothed = df_filtered.copy()\n",
    "df_smoothed['cpuUsage_stock'] = smoothed_data"
   ]
  },
  {
   "cell_type": "code",
   "execution_count": 11,
   "metadata": {},
   "outputs": [],
   "source": [
    "targets = df_smoothed[[ 'cpuUsage_stock']]"
   ]
  },
  {
   "cell_type": "code",
   "execution_count": 12,
   "metadata": {},
   "outputs": [
    {
     "data": {
      "image/png": "[encoded data removed]",
      "text/plain": [
       "<Figure size 1500x600 with 1 Axes>"
      ]
     },
     "metadata": {},
     "output_type": "display_data"
    }
   ],
   "source": [
    "# Wykresy\n",
    "plt.figure(figsize=(15, 6))\n",
    "plt.plot(targets, label='Rzeczywiste')\n",
    "plt.legend()\n",
    "plt.show()"
   ]
  },
  {
   "cell_type": "code",
   "execution_count": 13,
   "metadata": {},
   "outputs": [
    {
     "data": {
      "text/html": [
       "<div>\n",
       "<style scoped>\n",
       "    .dataframe tbody tr th:only-of-type {\n",
       "        vertical-align: middle;\n",
       "    }\n",
       "\n",
       "    .dataframe tbody tr th {\n",
       "        vertical-align: top;\n",
       "    }\n",
       "\n",
       "    .dataframe thead th {\n",
       "        text-align: right;\n",
       "    }\n",
       "</style>\n",
       "<table border=\"1\" class=\"dataframe\">\n",
       "  <thead>\n",
       "    <tr style=\"text-align: right;\">\n",
       "      <th></th>\n",
       "      <th>cpuUsage_stock</th>\n",
       "    </tr>\n",
       "  </thead>\n",
       "  <tbody>\n",
       "    <tr>\n",
       "      <th>0</th>\n",
       "      <td>0.445614</td>\n",
       "    </tr>\n",
       "    <tr>\n",
       "      <th>1</th>\n",
       "      <td>0.445631</td>\n",
       "    </tr>\n",
       "    <tr>\n",
       "      <th>2</th>\n",
       "      <td>0.445637</td>\n",
       "    </tr>\n",
       "    <tr>\n",
       "      <th>3</th>\n",
       "      <td>0.445630</td>\n",
       "    </tr>\n",
       "    <tr>\n",
       "      <th>4</th>\n",
       "      <td>0.445634</td>\n",
       "    </tr>\n",
       "    <tr>\n",
       "      <th>...</th>\n",
       "      <td>...</td>\n",
       "    </tr>\n",
       "    <tr>\n",
       "      <th>494924</th>\n",
       "      <td>0.615448</td>\n",
       "    </tr>\n",
       "    <tr>\n",
       "      <th>494925</th>\n",
       "      <td>0.615448</td>\n",
       "    </tr>\n",
       "    <tr>\n",
       "      <th>494926</th>\n",
       "      <td>0.615448</td>\n",
       "    </tr>\n",
       "    <tr>\n",
       "      <th>494927</th>\n",
       "      <td>0.615448</td>\n",
       "    </tr>\n",
       "    <tr>\n",
       "      <th>494928</th>\n",
       "      <td>0.615448</td>\n",
       "    </tr>\n",
       "  </tbody>\n",
       "</table>\n",
       "<p>494929 rows × 1 columns</p>\n",
       "</div>"
      ],
      "text/plain": [
       "        cpuUsage_stock\n",
       "0             0.445614\n",
       "1             0.445631\n",
       "2             0.445637\n",
       "3             0.445630\n",
       "4             0.445634\n",
       "...                ...\n",
       "494924        0.615448\n",
       "494925        0.615448\n",
       "494926        0.615448\n",
       "494927        0.615448\n",
       "494928        0.615448\n",
       "\n",
       "[494929 rows x 1 columns]"
      ]
     },
     "execution_count": 13,
     "metadata": {},
     "output_type": "execute_result"
    }
   ],
   "source": [
    "targets"
   ]
  },
  {
   "cell_type": "code",
   "execution_count": 14,
   "metadata": {},
   "outputs": [],
   "source": [
    "# Przygotowanie danych\n",
    "X = features.values\n",
    "y = targets.values"
   ]
  },
  {
   "cell_type": "code",
   "execution_count": 15,
   "metadata": {},
   "outputs": [],
   "source": [
    "# Przygotowanie danych\n",
    "X = features.values\n",
    "y = targets.values\n",
    "\n",
    "# Przewidywanie tylko jednej zmiennej\n",
    "X = X.reshape((X.shape[0], X.shape[1], 1))\n",
    "\n",
    "# Podział na zbiór treningowy i testowy\n",
    "split_index = int(len(X) * 0.5)  # 80% for training, 20% for testing\n",
    "\n",
    "# # Split the data into training and test sets\n",
    "X_train = X[:split_index]\n",
    "y_train = y[:split_index]\n",
    "X_test = X[split_index:]\n",
    "y_test = y[split_index:]\n",
    "\n",
    "# Budowanie modelu\n",
    "model = Sequential()\n",
    "model.add(LSTM(50, input_shape=(X_train.shape[1], X_train.shape[2])))\n",
    "model.add(Dense(1))\n",
    "model.compile(loss='mse', optimizer='adam')"
   ]
  },
  {
   "cell_type": "code",
   "execution_count": 16,
   "metadata": {},
   "outputs": [],
   "source": [
    "# split_index = int(len(X) * 0.5)  # 80% for training, 20% for testing\n",
    "\n",
    "# # Split the data into training and test sets\n",
    "# X_train = X[:split_index]\n",
    "# y_train = y[:split_index]\n",
    "# X_test = X[split_index:]\n",
    "# y_test = y[split_index:]"
   ]
  },
  {
   "cell_type": "code",
   "execution_count": 17,
   "metadata": {},
   "outputs": [],
   "source": [
    "# X_train = X_train.astype(np.float32)\n",
    "# y_train = y_train.astype(np.float32)"
   ]
  },
  {
   "cell_type": "code",
   "execution_count": 18,
   "metadata": {},
   "outputs": [],
   "source": [
    "# Zmiana kształtu danych do formatu akceptowanego przez LSTM ([samples, time steps, features])\n",
    "# X_train = X_train.reshape((X_train.shape[0], 1, X_train.shape[1]))\n",
    "# X_test = X_test.reshape((X_test.shape[0], 1, X_test.shape[1]))"
   ]
  },
  {
   "cell_type": "code",
   "execution_count": 19,
   "metadata": {},
   "outputs": [],
   "source": [
    "# X_train = X_train.astype(np.float32)\n",
    "# y_train = y_train.astype(np.float32)\n",
    "# X_test = X_test.astype(np.float32)\n",
    "# y_test = y_test.astype(np.float32)"
   ]
  },
  {
   "cell_type": "code",
   "execution_count": 20,
   "metadata": {},
   "outputs": [],
   "source": [
    "# # Budowanie modelu\n",
    "# model = Sequential()\n",
    "# model.add(LSTM(50, input_shape=(X_train.shape[1], X_train.shape[2])))\n",
    "# model.add(Dense(1))\n",
    "# model.compile(loss='mse', optimizer='adam')"
   ]
  },
  {
   "cell_type": "code",
   "execution_count": 21,
   "metadata": {},
   "outputs": [
    {
     "name": "stdout",
     "output_type": "stream",
     "text": [
      "Epoch 1/5\n",
      "3437/3437 - 18s - loss: 0.0016 - val_loss: 0.0255 - 18s/epoch - 5ms/step\n",
      "Epoch 2/5\n",
      "3437/3437 - 14s - loss: 0.0019 - val_loss: 0.0262 - 14s/epoch - 4ms/step\n",
      "Epoch 3/5\n",
      "3437/3437 - 14s - loss: 0.0023 - val_loss: 0.0273 - 14s/epoch - 4ms/step\n",
      "Epoch 4/5\n",
      "3437/3437 - 15s - loss: 0.0026 - val_loss: 0.0261 - 15s/epoch - 4ms/step\n",
      "Epoch 5/5\n",
      "3437/3437 - 15s - loss: 0.0038 - val_loss: 0.0260 - 15s/epoch - 4ms/step\n"
     ]
    }
   ],
   "source": [
    "# Trenowanie modelu\n",
    "history = model.fit(X_train, y_train, epochs=5, batch_size=72, validation_data=(X_test, y_test), verbose=2, shuffle=False)"
   ]
  },
  {
   "cell_type": "code",
   "execution_count": 22,
   "metadata": {},
   "outputs": [
    {
     "name": "stdout",
     "output_type": "stream",
     "text": [
      "7734/7734 [==============================] - 11s 1ms/step\n"
     ]
    }
   ],
   "source": [
    "# Przewidywanie\n",
    "y_pred = model.predict(X_test)"
   ]
  },
  {
   "cell_type": "code",
   "execution_count": 23,
   "metadata": {},
   "outputs": [],
   "source": [
    "y_org = scaler1.inverse_transform(y_test)"
   ]
  },
  {
   "cell_type": "code",
   "execution_count": 24,
   "metadata": {},
   "outputs": [
    {
     "data": {
      "text/plain": [
       "array([[0.6191538],\n",
       "       [0.6331848],\n",
       "       [0.6191538],\n",
       "       ...,\n",
       "       [0.6191538],\n",
       "       [0.618502 ],\n",
       "       [0.6191538]], dtype=float32)"
      ]
     },
     "execution_count": 24,
     "metadata": {},
     "output_type": "execute_result"
    }
   ],
   "source": [
    "y_pred"
   ]
  },
  {
   "cell_type": "code",
   "execution_count": 25,
   "metadata": {},
   "outputs": [],
   "source": [
    "y_pred_org = scaler1.inverse_transform(y_pred)"
   ]
  },
  {
   "cell_type": "code",
   "execution_count": 27,
   "metadata": {},
   "outputs": [
    {
     "data": {
      "image/png": "[encoded data removed]",
      "text/plain": [
       "<Figure size 1500x600 with 1 Axes>"
      ]
     },
     "metadata": {},
     "output_type": "display_data"
    }
   ],
   "source": [
    "# Wykresy\n",
    "plt.figure(figsize=(15, 6))\n",
    "plt.plot(y_org, label='Rzeczywiste')\n",
    "plt.plot(y_pred_org, label='Pred')\n",
    "plt.legend()\n",
    "plt.show()"
   ]
  }
 ],
 "metadata": {
  "kernelspec": {
   "display_name": "Python 3",
   "language": "python",
   "name": "python3"
  },
  "language_info": {
   "codemirror_mode": {
    "name": "ipython",
    "version": 3
   },
   "file_extension": ".py",
   "mimetype": "text/x-python",
   "name": "python",
   "nbconvert_exporter": "python",
   "pygments_lexer": "ipython3",
   "version": "3.11.3"
  },
  "orig_nbformat": 4
 },
 "nbformat": 4,
 "nbformat_minor": 2
}
