{
 "cells": [
  {
   "cell_type": "code",
   "execution_count": 1,
   "metadata": {},
   "outputs": [],
   "source": [
    "import pandas as pd\n",
    "from sklearn.preprocessing import StandardScaler, LabelEncoder\n",
    "from keras.utils import np_utils\n",
    "from sklearn.model_selection import train_test_split\n",
    "import numpy as np\n",
    "\n",
    "path = \"../../../dane/8CPU_20RAM/3600s/all_merged.csv\""
   ]
  },
  {
   "cell_type": "code",
   "execution_count": 2,
   "metadata": {},
   "outputs": [],
   "source": [
    "# Załaduj dane\n",
    "df = pd.read_csv(path)"
   ]
  },
  {
   "cell_type": "code",
   "execution_count": 3,
   "metadata": {},
   "outputs": [],
   "source": [
    "for col in ['replicaId', 'endpointUrl_methods']:\n",
    "    le = LabelEncoder()\n",
    "    df[col] = le.fit_transform(df[col])"
   ]
  },
  {
   "cell_type": "code",
   "execution_count": 4,
   "metadata": {},
   "outputs": [],
   "source": [
    "# Dodajemy skalowanie dla wybranych kolumn\n",
    "features_to_scale = ['queueSizeForward_methods', 'queueSizeBack_methods',\n",
    "                     'cpuUsage_stock', 'memoryUsage_stock',\n",
    "                     'applicationTime_trading', 'databaseTime_trading',\n",
    "                     'numberOfSellOffers_trading', 'numberOfBuyOffers_trading']\n",
    "scaler = StandardScaler()\n",
    "for col in features_to_scale:\n",
    "    df[col] = scaler.fit_transform(df[col].values.reshape(-1, 1))"
   ]
  },
  {
   "cell_type": "code",
   "execution_count": 5,
   "metadata": {},
   "outputs": [],
   "source": [
    "# Wybór cech\n",
    "features = [\n",
    "            # 'timestamp',\n",
    "            # 'apiTime_methods',\n",
    "            # 'applicationTime_methods',\n",
    "            # 'databaseTime_methods',\n",
    "            # 'endpointUrl_methods',\n",
    "            # 'queueSizeForward_methods',\n",
    "            # 'queueSizeBack_methods',\n",
    "            'cpuUsage_stock',\n",
    "            'memoryUsage_stock',\n",
    "            # 'applicationTime_trading',\n",
    "            # 'databaseTime_trading',\n",
    "            # 'numberOfSellOffers_trading',\n",
    "            # 'numberOfBuyOffers_trading',\n",
    "            # 'cpuUsage_traffic',\n",
    "            # 'memoryUsage_traffic',\n",
    "            # 'replicaId'\n",
    "            ]\n",
    "df_features = df[features]\n",
    "\n",
    "# Kodowanie pudełek\n",
    "le = LabelEncoder()\n",
    "df['test'] = le.fit_transform(df['test'])\n",
    "\n",
    "# Kopiowanie danych\n",
    "df_encoded = df_features.copy()\n",
    "df_encoded['test'] = df['test']"
   ]
  },
  {
   "cell_type": "code",
   "execution_count": 6,
   "metadata": {},
   "outputs": [],
   "source": [
    "# Stwórz puste listy do przechowywania danych treningowych i testowych\n",
    "X_train = []\n",
    "X_test = []\n",
    "y_train = []\n",
    "y_test = []"
   ]
  },
  {
   "cell_type": "code",
   "execution_count": 7,
   "metadata": {},
   "outputs": [],
   "source": [
    "def create_windows(X, y, window_size, step_size):\n",
    "    X_windows = []\n",
    "    y_windows = []\n",
    "\n",
    "    # Przesuń okno po danych\n",
    "    for i in range(0, len(X) - window_size, step_size):\n",
    "        # Utwórz okno danych\n",
    "        X_window = X.iloc[i:i + window_size]\n",
    "        # Utwórz etykietę dla okna (etykieta ostatniej obserwacji w oknie)\n",
    "        y_window = y.iloc[i + window_size]\n",
    "\n",
    "        X_windows.append(X_window.values)\n",
    "        y_windows.append(y_window)\n",
    "\n",
    "    return np.array(X_windows), np.array(y_windows)"
   ]
  },
  {
   "cell_type": "code",
   "execution_count": 8,
   "metadata": {},
   "outputs": [],
   "source": [
    "window_size = 700\n",
    "step_size = 100\n",
    "# Dla każdego unikalnego pudełka\n",
    "for box in df_encoded['test'].unique():\n",
    "    # Wybierz tylko rekordy dla tego pudełka\n",
    "    box_data = df_encoded[df_encoded['test'] == box]\n",
    "    \n",
    "    # Oblicz punkt podziału (80% danych)\n",
    "    split_point = int(len(box_data) * 0.8)\n",
    "    \n",
    "    # Dodaj pierwsze 80% rekordów do danych treningowych\n",
    "    X_train_box = box_data.drop('test', axis=1).iloc[:split_point]\n",
    "    y_train_box = box_data['test'].iloc[:split_point]\n",
    "    \n",
    "    # Dodaj ostatnie 20% rekordów do danych testowych\n",
    "    X_test_box = box_data.drop('test', axis=1).iloc[split_point:]\n",
    "    y_test_box = box_data['test'].iloc[split_point:]\n",
    "    \n",
    "    # Stwórz okienka dla danych treningowych\n",
    "    X_train_windows, y_train_windows = create_windows(X_train_box, y_train_box, window_size, step_size)\n",
    "    \n",
    "    # Stwórz okienka dla danych testowych\n",
    "    X_test_windows, y_test_windows = create_windows(X_test_box, y_test_box, window_size, step_size)\n",
    "    \n",
    "    # Dodaj okienka do list\n",
    "    X_train.append(X_train_windows)\n",
    "    y_train.append(y_train_windows)\n",
    "    X_test.append(X_test_windows)\n",
    "    y_test.append(y_test_windows)"
   ]
  },
  {
   "cell_type": "code",
   "execution_count": 9,
   "metadata": {},
   "outputs": [],
   "source": [
    "from tensorflow.keras.models import Sequential\n",
    "from tensorflow.keras.layers import GRU, Dense\n",
    "from keras.utils import to_categorical"
   ]
  },
  {
   "cell_type": "code",
   "execution_count": 10,
   "metadata": {},
   "outputs": [],
   "source": [
    "# Połączenie danych treningowych dla wszystkich pudełek\n",
    "X_train_combined = np.concatenate(X_train, axis=0)\n",
    "y_train_combined = np.concatenate(y_train, axis=0)"
   ]
  },
  {
   "cell_type": "code",
   "execution_count": 11,
   "metadata": {},
   "outputs": [],
   "source": [
    "# Zakodowanie etykiet w formacie one-hot encoding\n",
    "y_train_combined_encoded = to_categorical(y_train_combined, num_classes=len(df['test'].unique()))"
   ]
  },
  {
   "cell_type": "code",
   "execution_count": 12,
   "metadata": {},
   "outputs": [
    {
     "name": "stdout",
     "output_type": "stream",
     "text": [
      "Epoch 1/25\n",
      "2023/2023 [==============================] - 304s 148ms/step - loss: 2.3107 - accuracy: 0.2588\n",
      "Epoch 2/25\n",
      "2023/2023 [==============================] - 346s 171ms/step - loss: 2.2810 - accuracy: 0.2603\n",
      "Epoch 3/25\n",
      "2023/2023 [==============================] - 322s 159ms/step - loss: 2.2424 - accuracy: 0.2602\n",
      "Epoch 4/25\n",
      "2023/2023 [==============================] - 291s 144ms/step - loss: 2.2145 - accuracy: 0.2763\n",
      "Epoch 5/25\n",
      "2023/2023 [==============================] - 290s 143ms/step - loss: 2.1495 - accuracy: 0.3030\n",
      "Epoch 6/25\n",
      "2023/2023 [==============================] - 288s 143ms/step - loss: 2.1067 - accuracy: 0.3225\n",
      "Epoch 7/25\n",
      "2023/2023 [==============================] - 289s 143ms/step - loss: 2.0513 - accuracy: 0.3390\n",
      "Epoch 8/25\n",
      "2023/2023 [==============================] - 289s 143ms/step - loss: 1.9662 - accuracy: 0.3521\n",
      "Epoch 9/25\n",
      "2023/2023 [==============================] - 290s 143ms/step - loss: 1.9774 - accuracy: 0.3527\n",
      "Epoch 10/25\n",
      "2023/2023 [==============================] - 288s 143ms/step - loss: 1.8262 - accuracy: 0.3827\n",
      "Epoch 11/25\n",
      "2023/2023 [==============================] - 291s 144ms/step - loss: 1.7623 - accuracy: 0.4044\n",
      "Epoch 12/25\n",
      "2023/2023 [==============================] - 289s 143ms/step - loss: 1.6200 - accuracy: 0.4456\n",
      "Epoch 13/25\n",
      "2023/2023 [==============================] - 289s 143ms/step - loss: 1.5196 - accuracy: 0.4884\n",
      "Epoch 14/25\n",
      "2023/2023 [==============================] - 288s 142ms/step - loss: 1.5160 - accuracy: 0.4935\n",
      "Epoch 15/25\n",
      "2023/2023 [==============================] - 287s 142ms/step - loss: 1.5829 - accuracy: 0.4684\n",
      "Epoch 16/25\n",
      "2023/2023 [==============================] - 287s 142ms/step - loss: 1.6008 - accuracy: 0.4942\n",
      "Epoch 17/25\n",
      "2023/2023 [==============================] - 287s 142ms/step - loss: 2.1159 - accuracy: 0.3156\n",
      "Epoch 18/25\n",
      "2023/2023 [==============================] - 286s 141ms/step - loss: 1.9390 - accuracy: 0.3557\n",
      "Epoch 19/25\n",
      "2023/2023 [==============================] - 284s 141ms/step - loss: 1.8683 - accuracy: 0.3712\n",
      "Epoch 20/25\n",
      "2023/2023 [==============================] - 285s 141ms/step - loss: 1.8221 - accuracy: 0.3850\n",
      "Epoch 21/25\n",
      "2023/2023 [==============================] - 285s 141ms/step - loss: 1.7852 - accuracy: 0.3991\n",
      "Epoch 22/25\n",
      "2023/2023 [==============================] - 285s 141ms/step - loss: 1.7558 - accuracy: 0.4073\n",
      "Epoch 23/25\n",
      "2023/2023 [==============================] - 284s 140ms/step - loss: 1.7287 - accuracy: 0.4201\n",
      "Epoch 24/25\n",
      "2023/2023 [==============================] - 282s 139ms/step - loss: 1.7014 - accuracy: 0.4310\n",
      "Epoch 25/25\n",
      "2023/2023 [==============================] - 281s 139ms/step - loss: 1.6737 - accuracy: 0.4411\n"
     ]
    },
    {
     "data": {
      "text/plain": [
       "<keras.callbacks.History at 0x27ab09f8350>"
      ]
     },
     "execution_count": 12,
     "metadata": {},
     "output_type": "execute_result"
    }
   ],
   "source": [
    "# Trenowanie modelu na połączonym zestawie danych\n",
    "model = Sequential()    \n",
    "model.add(GRU(50, return_sequences=False, input_shape=(window_size, X_train_combined.shape[2])))\n",
    "model.add(Dense(len(df['test'].unique()), activation='softmax'))\n",
    "model.compile(loss='categorical_crossentropy', optimizer='adam', metrics=['accuracy'])\n",
    "model.fit(X_train_combined, y_train_combined_encoded, epochs=25, batch_size=32)"
   ]
  },
  {
   "cell_type": "code",
   "execution_count": 13,
   "metadata": {},
   "outputs": [
    {
     "name": "stdout",
     "output_type": "stream",
     "text": [
      "34/34 [==============================] - 2s 37ms/step - loss: 1.1171 - accuracy: 0.6504\n",
      "Test 1: Loss = 1.117135763168335, Accuracy = 0.6504217386245728\n",
      "34/34 [==============================] - 1s 37ms/step - loss: 2.3715 - accuracy: 0.2744\n",
      "Test 2: Loss = 2.3714725971221924, Accuracy = 0.2744360864162445\n",
      "31/31 [==============================] - 1s 37ms/step - loss: 2.6895 - accuracy: 0.0875\n",
      "Test 3: Loss = 2.689528465270996, Accuracy = 0.08748728036880493\n",
      "33/33 [==============================] - 1s 37ms/step - loss: 2.5898 - accuracy: 0.1312\n",
      "Test 4: Loss = 2.58980131149292, Accuracy = 0.13117870688438416\n",
      "26/26 [==============================] - 1s 38ms/step - loss: 2.3924 - accuracy: 0.0000e+00\n",
      "Test 5: Loss = 2.39241099357605, Accuracy = 0.0\n",
      "29/29 [==============================] - 1s 37ms/step - loss: 2.0911 - accuracy: 0.3020\n",
      "Test 6: Loss = 2.091078758239746, Accuracy = 0.3020496368408203\n",
      "16/16 [==============================] - 1s 36ms/step - loss: 1.8866 - accuracy: 0.2293\n",
      "Test 7: Loss = 1.88661789894104, Accuracy = 0.2293388396501541\n",
      "15/15 [==============================] - 1s 37ms/step - loss: 2.4755 - accuracy: 0.2035\n",
      "Test 8: Loss = 2.475482225418091, Accuracy = 0.20353981852531433\n",
      "23/23 [==============================] - 1s 37ms/step - loss: 1.6102 - accuracy: 0.6227\n",
      "Test 9: Loss = 1.6101834774017334, Accuracy = 0.6227461695671082\n",
      "42/42 [==============================] - 2s 37ms/step - loss: 3.3971 - accuracy: 0.1473\n",
      "Test 10: Loss = 3.3970658779144287, Accuracy = 0.1472577005624771\n",
      "33/33 [==============================] - 1s 37ms/step - loss: 2.7415 - accuracy: 0.1981\n",
      "Test 11: Loss = 2.741546392440796, Accuracy = 0.19809523224830627\n",
      "21/21 [==============================] - 1s 38ms/step - loss: 1.5058 - accuracy: 0.4413\n",
      "Test 12: Loss = 1.5058265924453735, Accuracy = 0.4412650465965271\n",
      "14/14 [==============================] - 1s 36ms/step - loss: 1.1538 - accuracy: 1.0000\n",
      "Test 13: Loss = 1.1537593603134155, Accuracy = 1.0\n",
      "20/20 [==============================] - 1s 37ms/step - loss: 2.6521 - accuracy: 0.0444\n",
      "Test 14: Loss = 2.652113676071167, Accuracy = 0.0443740077316761\n",
      "27/27 [==============================] - 1s 38ms/step - loss: 2.4070 - accuracy: 0.1941\n",
      "Test 15: Loss = 2.4069619178771973, Accuracy = 0.19411765038967133\n",
      "34/34 [==============================] - 1s 37ms/step - loss: 2.0526 - accuracy: 0.3136\n",
      "Test 16: Loss = 2.0525522232055664, Accuracy = 0.31359851360321045\n",
      "39/39 [==============================] - 1s 37ms/step - loss: 2.5141 - accuracy: 0.1899\n",
      "Test 17: Loss = 2.514098882675171, Accuracy = 0.18989405035972595\n",
      "40/40 [==============================] - 2s 37ms/step - loss: 3.5032 - accuracy: 0.1963\n",
      "Test 18: Loss = 3.5032219886779785, Accuracy = 0.19634340703487396\n"
     ]
    }
   ],
   "source": [
    "for i in range(len(X_test)):\n",
    "    y_test_encoded = to_categorical(y_test[i], num_classes=len(df['test'].unique()))\n",
    "    loss, accuracy = model.evaluate(X_test[i], y_test_encoded)\n",
    "    print(f\"Test {i+1}: Loss = {loss}, Accuracy = {accuracy}\")"
   ]
  }
 ],
 "metadata": {
  "kernelspec": {
   "display_name": "Python 3",
   "language": "python",
   "name": "python3"
  },
  "language_info": {
   "codemirror_mode": {
    "name": "ipython",
    "version": 3
   },
   "file_extension": ".py",
   "mimetype": "text/x-python",
   "name": "python",
   "nbconvert_exporter": "python",
   "pygments_lexer": "ipython3",
   "version": "3.11.3"
  },
  "orig_nbformat": 4
 },
 "nbformat": 4,
 "nbformat_minor": 2
}
