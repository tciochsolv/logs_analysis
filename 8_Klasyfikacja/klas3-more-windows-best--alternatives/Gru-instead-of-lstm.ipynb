{
 "cells": [
  {
   "cell_type": "code",
   "execution_count": 15,
   "metadata": {},
   "outputs": [],
   "source": [
    "import pandas as pd\n",
    "from sklearn.preprocessing import StandardScaler, LabelEncoder\n",
    "from keras.utils import np_utils\n",
    "from sklearn.model_selection import train_test_split\n",
    "import numpy as np\n",
    "\n",
    "path = \"../../../dane/8CPU_20RAM/3600s/4_merged.csv\""
   ]
  },
  {
   "cell_type": "code",
   "execution_count": 16,
   "metadata": {},
   "outputs": [],
   "source": [
    "# Załaduj dane\n",
    "df = pd.read_csv(path)"
   ]
  },
  {
   "cell_type": "code",
   "execution_count": 17,
   "metadata": {},
   "outputs": [],
   "source": [
    "for col in ['replicaId', 'endpointUrl_methods']:\n",
    "    le = LabelEncoder()\n",
    "    df[col] = le.fit_transform(df[col])"
   ]
  },
  {
   "cell_type": "code",
   "execution_count": 18,
   "metadata": {},
   "outputs": [],
   "source": [
    "# Dodajemy skalowanie dla wybranych kolumn\n",
    "features_to_scale = ['queueSizeForward_methods', 'queueSizeBack_methods',\n",
    "                     'cpuUsage_stock', 'memoryUsage_stock',\n",
    "                     'applicationTime_trading', 'databaseTime_trading',\n",
    "                     'numberOfSellOffers_trading', 'numberOfBuyOffers_trading']\n",
    "scaler = StandardScaler()\n",
    "for col in features_to_scale:\n",
    "    df[col] = scaler.fit_transform(df[col].values.reshape(-1, 1))"
   ]
  },
  {
   "cell_type": "code",
   "execution_count": 19,
   "metadata": {},
   "outputs": [],
   "source": [
    "# Wybór cech\n",
    "features = [\n",
    "            # 'timestamp',\n",
    "            # 'apiTime_methods',\n",
    "            # 'applicationTime_methods',\n",
    "            # 'databaseTime_methods',\n",
    "            'endpointUrl_methods',\n",
    "            'queueSizeForward_methods',\n",
    "            'queueSizeBack_methods',\n",
    "            'cpuUsage_stock',\n",
    "            'memoryUsage_stock',\n",
    "            'applicationTime_trading',\n",
    "            'databaseTime_trading',\n",
    "            'numberOfSellOffers_trading',\n",
    "            'numberOfBuyOffers_trading',\n",
    "            # 'cpuUsage_traffic',\n",
    "            # 'memoryUsage_traffic',\n",
    "            # 'replicaId'\n",
    "            ]\n",
    "df_features = df[features]\n",
    "\n",
    "# Kodowanie pudełek\n",
    "le = LabelEncoder()\n",
    "df['test'] = le.fit_transform(df['test'])\n",
    "\n",
    "# Kopiowanie danych\n",
    "df_encoded = df_features.copy()\n",
    "df_encoded['test'] = df['test']"
   ]
  },
  {
   "cell_type": "code",
   "execution_count": 20,
   "metadata": {},
   "outputs": [],
   "source": [
    "# Stwórz puste listy do przechowywania danych treningowych i testowych\n",
    "X_train = []\n",
    "X_test = []\n",
    "y_train = []\n",
    "y_test = []"
   ]
  },
  {
   "cell_type": "code",
   "execution_count": 21,
   "metadata": {},
   "outputs": [],
   "source": [
    "def create_windows(X, y, window_size, step_size):\n",
    "    X_windows = []\n",
    "    y_windows = []\n",
    "\n",
    "    # Przesuń okno po danych\n",
    "    for i in range(0, len(X) - window_size, step_size):\n",
    "        # Utwórz okno danych\n",
    "        X_window = X.iloc[i:i + window_size]\n",
    "        # Utwórz etykietę dla okna (etykieta ostatniej obserwacji w oknie)\n",
    "        y_window = y.iloc[i + window_size]\n",
    "\n",
    "        X_windows.append(X_window.values)\n",
    "        y_windows.append(y_window)\n",
    "\n",
    "    return np.array(X_windows), np.array(y_windows)"
   ]
  },
  {
   "cell_type": "code",
   "execution_count": 22,
   "metadata": {},
   "outputs": [],
   "source": [
    "window_size = 700\n",
    "step_size = 100\n",
    "# Dla każdego unikalnego pudełka\n",
    "for box in df_encoded['test'].unique():\n",
    "    # Wybierz tylko rekordy dla tego pudełka\n",
    "    box_data = df_encoded[df_encoded['test'] == box]\n",
    "    \n",
    "    # Oblicz punkt podziału (80% danych)\n",
    "    split_point = int(len(box_data) * 0.8)\n",
    "    \n",
    "    # Dodaj pierwsze 80% rekordów do danych treningowych\n",
    "    X_train_box = box_data.drop('test', axis=1).iloc[:split_point]\n",
    "    y_train_box = box_data['test'].iloc[:split_point]\n",
    "    \n",
    "    # Dodaj ostatnie 20% rekordów do danych testowych\n",
    "    X_test_box = box_data.drop('test', axis=1).iloc[split_point:]\n",
    "    y_test_box = box_data['test'].iloc[split_point:]\n",
    "    \n",
    "    # Stwórz okienka dla danych treningowych\n",
    "    X_train_windows, y_train_windows = create_windows(X_train_box, y_train_box, window_size, step_size)\n",
    "    \n",
    "    # Stwórz okienka dla danych testowych\n",
    "    X_test_windows, y_test_windows = create_windows(X_test_box, y_test_box, window_size, step_size)\n",
    "    \n",
    "    # Dodaj okienka do list\n",
    "    X_train.append(X_train_windows)\n",
    "    y_train.append(y_train_windows)\n",
    "    X_test.append(X_test_windows)\n",
    "    y_test.append(y_test_windows)"
   ]
  },
  {
   "cell_type": "code",
   "execution_count": 23,
   "metadata": {},
   "outputs": [],
   "source": [
    "from tensorflow.keras.models import Sequential\n",
    "from tensorflow.keras.layers import GRU, Dense\n",
    "from keras.utils import to_categorical"
   ]
  },
  {
   "cell_type": "code",
   "execution_count": 24,
   "metadata": {},
   "outputs": [],
   "source": [
    "# Połączenie danych treningowych dla wszystkich pudełek\n",
    "X_train_combined = np.concatenate(X_train, axis=0)\n",
    "y_train_combined = np.concatenate(y_train, axis=0)"
   ]
  },
  {
   "cell_type": "code",
   "execution_count": 25,
   "metadata": {},
   "outputs": [],
   "source": [
    "# Zakodowanie etykiet w formacie one-hot encoding\n",
    "y_train_combined_encoded = to_categorical(y_train_combined, num_classes=len(df['test'].unique()))"
   ]
  },
  {
   "cell_type": "code",
   "execution_count": 26,
   "metadata": {},
   "outputs": [
    {
     "name": "stdout",
     "output_type": "stream",
     "text": [
      "Epoch 1/5\n",
      "552/552 [==============================] - 178s 319ms/step - loss: 0.4055 - accuracy: 0.8557\n",
      "Epoch 2/5\n",
      "552/552 [==============================] - 178s 322ms/step - loss: 0.0562 - accuracy: 0.9839\n",
      "Epoch 3/5\n",
      "552/552 [==============================] - 213s 386ms/step - loss: 0.0310 - accuracy: 0.9916\n",
      "Epoch 4/5\n",
      "552/552 [==============================] - 217s 393ms/step - loss: 0.0075 - accuracy: 0.9984\n",
      "Epoch 5/5\n",
      "552/552 [==============================] - 216s 391ms/step - loss: 0.0132 - accuracy: 0.9958\n"
     ]
    },
    {
     "data": {
      "text/plain": [
       "<keras.callbacks.History at 0x26309fb8c10>"
      ]
     },
     "execution_count": 26,
     "metadata": {},
     "output_type": "execute_result"
    }
   ],
   "source": [
    "# Trenowanie modelu na połączonym zestawie danych\n",
    "model = Sequential()    \n",
    "model.add(GRU(100, return_sequences=False, input_shape=(window_size, X_train_combined.shape[2])))\n",
    "model.add(Dense(len(df['test'].unique()), activation='softmax'))\n",
    "model.compile(loss='categorical_crossentropy', optimizer='adam', metrics=['accuracy'])\n",
    "model.fit(X_train_combined, y_train_combined_encoded, epochs=5, batch_size=32)"
   ]
  },
  {
   "cell_type": "code",
   "execution_count": 27,
   "metadata": {},
   "outputs": [
    {
     "name": "stdout",
     "output_type": "stream",
     "text": [
      "31/31 [==============================] - 5s 117ms/step - loss: 0.0435 - accuracy: 0.9705\n",
      "Test 1: Loss = 0.04346351698040962, Accuracy = 0.9704985022544861\n",
      "29/29 [==============================] - 4s 126ms/step - loss: 0.0010 - accuracy: 1.0000\n",
      "Test 2: Loss = 0.0010168211301788688, Accuracy = 1.0\n",
      "39/39 [==============================] - 5s 118ms/step - loss: 4.9857e-04 - accuracy: 1.0000\n",
      "Test 3: Loss = 0.0004985700943507254, Accuracy = 1.0\n",
      "40/40 [==============================] - 5s 115ms/step - loss: 1.6902e-04 - accuracy: 1.0000\n",
      "Test 4: Loss = 0.000169018967426382, Accuracy = 1.0\n"
     ]
    }
   ],
   "source": [
    "for i in range(len(X_test)):\n",
    "    y_test_encoded = to_categorical(y_test[i], num_classes=len(df['test'].unique()))\n",
    "    loss, accuracy = model.evaluate(X_test[i], y_test_encoded)\n",
    "    print(f\"Test {i+1}: Loss = {loss}, Accuracy = {accuracy}\")"
   ]
  }
 ],
 "metadata": {
  "kernelspec": {
   "display_name": "Python 3",
   "language": "python",
   "name": "python3"
  },
  "language_info": {
   "codemirror_mode": {
    "name": "ipython",
    "version": 3
   },
   "file_extension": ".py",
   "mimetype": "text/x-python",
   "name": "python",
   "nbconvert_exporter": "python",
   "pygments_lexer": "ipython3",
   "version": "3.11.3"
  },
  "orig_nbformat": 4
 },
 "nbformat": 4,
 "nbformat_minor": 2
}
