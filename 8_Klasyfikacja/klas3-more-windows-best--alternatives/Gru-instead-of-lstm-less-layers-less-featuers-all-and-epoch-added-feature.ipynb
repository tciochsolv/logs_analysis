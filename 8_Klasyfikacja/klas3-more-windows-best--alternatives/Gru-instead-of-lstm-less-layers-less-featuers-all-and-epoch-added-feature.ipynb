{
 "cells": [
  {
   "cell_type": "code",
   "execution_count": 1,
   "metadata": {},
   "outputs": [],
   "source": [
    "import pandas as pd\n",
    "from sklearn.preprocessing import StandardScaler, LabelEncoder\n",
    "from keras.utils import np_utils\n",
    "from sklearn.model_selection import train_test_split\n",
    "import numpy as np\n",
    "\n",
    "path = \"../../../dane/8CPU_20RAM/3600s/all_merged.csv\""
   ]
  },
  {
   "cell_type": "code",
   "execution_count": 2,
   "metadata": {},
   "outputs": [],
   "source": [
    "# Załaduj dane\n",
    "df = pd.read_csv(path)"
   ]
  },
  {
   "cell_type": "code",
   "execution_count": 3,
   "metadata": {},
   "outputs": [],
   "source": [
    "for col in ['replicaId', 'endpointUrl_methods']:\n",
    "    le = LabelEncoder()\n",
    "    df[col] = le.fit_transform(df[col])"
   ]
  },
  {
   "cell_type": "code",
   "execution_count": 4,
   "metadata": {},
   "outputs": [],
   "source": [
    "# Dodajemy skalowanie dla wybranych kolumn\n",
    "features_to_scale = ['queueSizeForward_methods', 'queueSizeBack_methods',\n",
    "                     'cpuUsage_stock', 'memoryUsage_stock',\n",
    "                     'applicationTime_trading', 'databaseTime_trading',\n",
    "                     'numberOfSellOffers_trading', 'numberOfBuyOffers_trading']\n",
    "scaler = StandardScaler()\n",
    "for col in features_to_scale:\n",
    "    df[col] = scaler.fit_transform(df[col].values.reshape(-1, 1))"
   ]
  },
  {
   "cell_type": "code",
   "execution_count": 5,
   "metadata": {},
   "outputs": [],
   "source": [
    "# Wybór cech\n",
    "features = [\n",
    "            # 'timestamp',\n",
    "            # 'apiTime_methods',\n",
    "            # 'applicationTime_methods',\n",
    "            # 'databaseTime_methods',\n",
    "            'endpointUrl_methods',\n",
    "            # 'queueSizeForward_methods',\n",
    "            # 'queueSizeBack_methods',\n",
    "            'cpuUsage_stock',\n",
    "            'memoryUsage_stock',\n",
    "            # 'applicationTime_trading',\n",
    "            # 'databaseTime_trading',\n",
    "            # 'numberOfSellOffers_trading',\n",
    "            # 'numberOfBuyOffers_trading',\n",
    "            # 'cpuUsage_traffic',\n",
    "            # 'memoryUsage_traffic',\n",
    "            # 'replicaId'\n",
    "            ]\n",
    "df_features = df[features]\n",
    "\n",
    "# Kodowanie pudełek\n",
    "le = LabelEncoder()\n",
    "df['test'] = le.fit_transform(df['test'])\n",
    "\n",
    "# Kopiowanie danych\n",
    "df_encoded = df_features.copy()\n",
    "df_encoded['test'] = df['test']"
   ]
  },
  {
   "cell_type": "code",
   "execution_count": 6,
   "metadata": {},
   "outputs": [],
   "source": [
    "# Stwórz puste listy do przechowywania danych treningowych i testowych\n",
    "X_train = []\n",
    "X_test = []\n",
    "y_train = []\n",
    "y_test = []"
   ]
  },
  {
   "cell_type": "code",
   "execution_count": 7,
   "metadata": {},
   "outputs": [],
   "source": [
    "def create_windows(X, y, window_size, step_size):\n",
    "    X_windows = []\n",
    "    y_windows = []\n",
    "\n",
    "    # Przesuń okno po danych\n",
    "    for i in range(0, len(X) - window_size, step_size):\n",
    "        # Utwórz okno danych\n",
    "        X_window = X.iloc[i:i + window_size]\n",
    "        # Utwórz etykietę dla okna (etykieta ostatniej obserwacji w oknie)\n",
    "        y_window = y.iloc[i + window_size]\n",
    "\n",
    "        X_windows.append(X_window.values)\n",
    "        y_windows.append(y_window)\n",
    "\n",
    "    return np.array(X_windows), np.array(y_windows)"
   ]
  },
  {
   "cell_type": "code",
   "execution_count": 8,
   "metadata": {},
   "outputs": [],
   "source": [
    "window_size = 700\n",
    "step_size = 100\n",
    "# Dla każdego unikalnego testu\n",
    "for box in df_encoded['test'].unique():\n",
    "    # Wybierz tylko rekordy dla tego testu\n",
    "    box_data = df_encoded[df_encoded['test'] == box]\n",
    "    \n",
    "    # Oblicz punkt podziału (80% danych)\n",
    "    split_point = int(len(box_data) * 0.8)\n",
    "    \n",
    "    # Dodaj pierwsze 80% rekordów do danych treningowych\n",
    "    X_train_box = box_data.drop('test', axis=1).iloc[:split_point]\n",
    "    y_train_box = box_data['test'].iloc[:split_point]\n",
    "    \n",
    "    # Dodaj ostatnie 20% rekordów do danych testowych\n",
    "    X_test_box = box_data.drop('test', axis=1).iloc[split_point:]\n",
    "    y_test_box = box_data['test'].iloc[split_point:]\n",
    "    \n",
    "    # Stwórz okienka dla danych treningowych\n",
    "    X_train_windows, y_train_windows = create_windows(X_train_box, y_train_box, window_size, step_size)\n",
    "    \n",
    "    # Stwórz okienka dla danych testowych\n",
    "    X_test_windows, y_test_windows = create_windows(X_test_box, y_test_box, window_size, step_size)\n",
    "    \n",
    "    # Dodaj okienka do list\n",
    "    X_train.append(X_train_windows)\n",
    "    y_train.append(y_train_windows)\n",
    "    X_test.append(X_test_windows)\n",
    "    y_test.append(y_test_windows)"
   ]
  },
  {
   "cell_type": "code",
   "execution_count": 9,
   "metadata": {},
   "outputs": [],
   "source": [
    "from tensorflow.keras.models import Sequential\n",
    "from tensorflow.keras.layers import GRU, Dense\n",
    "from keras.utils import to_categorical"
   ]
  },
  {
   "cell_type": "code",
   "execution_count": 10,
   "metadata": {},
   "outputs": [],
   "source": [
    "# Połączenie danych treningowych dla wszystkich testów\n",
    "X_train_combined = np.concatenate(X_train, axis=0)\n",
    "y_train_combined = np.concatenate(y_train, axis=0)"
   ]
  },
  {
   "cell_type": "code",
   "execution_count": 11,
   "metadata": {},
   "outputs": [],
   "source": [
    "# Zakodowanie etykiet w formacie one-hot encoding\n",
    "y_train_combined_encoded = to_categorical(y_train_combined, num_classes=len(df['test'].unique()))"
   ]
  },
  {
   "cell_type": "code",
   "execution_count": 12,
   "metadata": {},
   "outputs": [
    {
     "name": "stdout",
     "output_type": "stream",
     "text": [
      "Epoch 1/25\n",
      "2023/2023 [==============================] - 347s 170ms/step - loss: 2.1596 - accuracy: 0.2793\n",
      "Epoch 2/25\n",
      "2023/2023 [==============================] - 313s 154ms/step - loss: 1.9085 - accuracy: 0.3576\n",
      "Epoch 3/25\n",
      "2023/2023 [==============================] - 290s 144ms/step - loss: 1.8277 - accuracy: 0.3928\n",
      "Epoch 4/25\n",
      "2023/2023 [==============================] - 290s 143ms/step - loss: 1.6952 - accuracy: 0.4253\n",
      "Epoch 5/25\n",
      "2023/2023 [==============================] - 288s 142ms/step - loss: 1.5619 - accuracy: 0.4655\n",
      "Epoch 6/25\n",
      "2023/2023 [==============================] - 289s 143ms/step - loss: 1.4353 - accuracy: 0.5042\n",
      "Epoch 7/25\n",
      "2023/2023 [==============================] - 291s 144ms/step - loss: 1.3400 - accuracy: 0.5335\n",
      "Epoch 8/25\n",
      "2023/2023 [==============================] - 288s 143ms/step - loss: 1.2443 - accuracy: 0.5714\n",
      "Epoch 9/25\n",
      "2023/2023 [==============================] - 291s 144ms/step - loss: 1.1274 - accuracy: 0.6107\n",
      "Epoch 10/25\n",
      "2023/2023 [==============================] - 290s 143ms/step - loss: 1.0698 - accuracy: 0.6306\n",
      "Epoch 11/25\n",
      "2023/2023 [==============================] - 289s 143ms/step - loss: 0.9762 - accuracy: 0.6615\n",
      "Epoch 12/25\n",
      "2023/2023 [==============================] - 290s 143ms/step - loss: 1.1096 - accuracy: 0.6217\n",
      "Epoch 13/25\n",
      "2023/2023 [==============================] - 292s 144ms/step - loss: 1.0686 - accuracy: 0.6325\n",
      "Epoch 14/25\n",
      "2023/2023 [==============================] - 292s 144ms/step - loss: 1.0705 - accuracy: 0.6232\n",
      "Epoch 15/25\n",
      "2023/2023 [==============================] - 294s 145ms/step - loss: 0.8632 - accuracy: 0.7001\n",
      "Epoch 16/25\n",
      "2023/2023 [==============================] - 296s 146ms/step - loss: 0.7932 - accuracy: 0.7364\n",
      "Epoch 17/25\n",
      "2023/2023 [==============================] - 296s 146ms/step - loss: 0.6998 - accuracy: 0.7699\n",
      "Epoch 18/25\n",
      "2023/2023 [==============================] - 297s 147ms/step - loss: 1.0542 - accuracy: 0.6546\n",
      "Epoch 19/25\n",
      "2023/2023 [==============================] - 291s 144ms/step - loss: 0.9208 - accuracy: 0.6894\n",
      "Epoch 20/25\n",
      "2023/2023 [==============================] - 288s 142ms/step - loss: 0.7781 - accuracy: 0.7388\n",
      "Epoch 21/25\n",
      "2023/2023 [==============================] - 287s 142ms/step - loss: 0.6808 - accuracy: 0.7831\n",
      "Epoch 22/25\n",
      "2023/2023 [==============================] - 284s 141ms/step - loss: 0.6534 - accuracy: 0.7976\n",
      "Epoch 23/25\n",
      "2023/2023 [==============================] - 282s 140ms/step - loss: 0.5791 - accuracy: 0.8160\n",
      "Epoch 24/25\n",
      "2023/2023 [==============================] - 272s 134ms/step - loss: 0.6639 - accuracy: 0.7949\n",
      "Epoch 25/25\n",
      "2023/2023 [==============================] - 249s 123ms/step - loss: 1.5103 - accuracy: 0.5325\n"
     ]
    },
    {
     "data": {
      "text/plain": [
       "<keras.callbacks.History at 0x225dbe89f10>"
      ]
     },
     "execution_count": 12,
     "metadata": {},
     "output_type": "execute_result"
    }
   ],
   "source": [
    "# Trenowanie modelu na połączonym zestawie danych\n",
    "model = Sequential()    \n",
    "model.add(GRU(50, return_sequences=False, input_shape=(window_size, X_train_combined.shape[2])))\n",
    "model.add(Dense(len(df['test'].unique()), activation='softmax'))\n",
    "model.compile(loss='categorical_crossentropy', optimizer='adam', metrics=['accuracy'])\n",
    "model.fit(X_train_combined, y_train_combined_encoded, epochs=25, batch_size=32)"
   ]
  },
  {
   "cell_type": "code",
   "execution_count": 13,
   "metadata": {},
   "outputs": [
    {
     "name": "stdout",
     "output_type": "stream",
     "text": [
      "34/34 [==============================] - 1s 32ms/step - loss: 1.1584 - accuracy: 0.6832\n",
      "Test 1: Loss = 1.1584311723709106, Accuracy = 0.6832239627838135\n",
      "34/34 [==============================] - 1s 32ms/step - loss: 2.2652 - accuracy: 0.3318\n",
      "Test 2: Loss = 2.2652127742767334, Accuracy = 0.33176690340042114\n",
      "31/31 [==============================] - 1s 32ms/step - loss: 2.2506 - accuracy: 0.1455\n",
      "Test 3: Loss = 2.2505533695220947, Accuracy = 0.14547304809093475\n",
      "33/33 [==============================] - 1s 32ms/step - loss: 3.4734 - accuracy: 0.0276\n",
      "Test 4: Loss = 3.4733963012695312, Accuracy = 0.027566539123654366\n",
      "26/26 [==============================] - 1s 32ms/step - loss: 0.2092 - accuracy: 0.9334\n",
      "Test 5: Loss = 0.2091863453388214, Accuracy = 0.9334140419960022\n",
      "29/29 [==============================] - 1s 32ms/step - loss: 0.8426 - accuracy: 0.8393\n",
      "Test 6: Loss = 0.8425816893577576, Accuracy = 0.8392664790153503\n",
      "16/16 [==============================] - 1s 32ms/step - loss: 0.1606 - accuracy: 0.9483\n",
      "Test 7: Loss = 0.16061608493328094, Accuracy = 0.9483470916748047\n",
      "15/15 [==============================] - 0s 31ms/step - loss: 0.2716 - accuracy: 0.8960\n",
      "Test 8: Loss = 0.2715919315814972, Accuracy = 0.8960176706314087\n",
      "23/23 [==============================] - 1s 32ms/step - loss: 0.0200 - accuracy: 1.0000\n",
      "Test 9: Loss = 0.020031215623021126, Accuracy = 1.0\n",
      "42/42 [==============================] - 1s 32ms/step - loss: 1.1803 - accuracy: 0.5958\n",
      "Test 10: Loss = 1.1802853345870972, Accuracy = 0.5957926511764526\n",
      "33/33 [==============================] - 1s 32ms/step - loss: 3.2696 - accuracy: 0.2143\n",
      "Test 11: Loss = 3.269630193710327, Accuracy = 0.2142857164144516\n",
      "21/21 [==============================] - 1s 32ms/step - loss: 1.4030 - accuracy: 0.6250\n",
      "Test 12: Loss = 1.402982473373413, Accuracy = 0.625\n",
      "14/14 [==============================] - 0s 31ms/step - loss: 0.4548 - accuracy: 0.9718\n",
      "Test 13: Loss = 0.4548487663269043, Accuracy = 0.9718309640884399\n",
      "20/20 [==============================] - 1s 33ms/step - loss: 2.1807 - accuracy: 0.1395\n",
      "Test 14: Loss = 2.1806986331939697, Accuracy = 0.13946117460727692\n",
      "27/27 [==============================] - 1s 32ms/step - loss: 3.0843 - accuracy: 0.3118\n",
      "Test 15: Loss = 3.0843420028686523, Accuracy = 0.3117647171020508\n",
      "34/34 [==============================] - 1s 32ms/step - loss: 2.3962 - accuracy: 0.0907\n",
      "Test 16: Loss = 2.3961706161499023, Accuracy = 0.09065680205821991\n",
      "39/39 [==============================] - 1s 32ms/step - loss: 2.5712 - accuracy: 0.2494\n",
      "Test 17: Loss = 2.5712358951568604, Accuracy = 0.24938875436782837\n",
      "40/40 [==============================] - 1s 32ms/step - loss: 2.2793 - accuracy: 0.1876\n",
      "Test 18: Loss = 2.279339551925659, Accuracy = 0.18759936094284058\n"
     ]
    }
   ],
   "source": [
    "for i in range(len(X_test)):\n",
    "    y_test_encoded = to_categorical(y_test[i], num_classes=len(df['test'].unique()))\n",
    "    loss, accuracy = model.evaluate(X_test[i], y_test_encoded)\n",
    "    print(f\"Test {i+1}: Loss = {loss}, Accuracy = {accuracy}\")"
   ]
  }
 ],
 "metadata": {
  "kernelspec": {
   "display_name": "Python 3",
   "language": "python",
   "name": "python3"
  },
  "language_info": {
   "codemirror_mode": {
    "name": "ipython",
    "version": 3
   },
   "file_extension": ".py",
   "mimetype": "text/x-python",
   "name": "python",
   "nbconvert_exporter": "python",
   "pygments_lexer": "ipython3",
   "version": "3.11.3"
  },
  "orig_nbformat": 4
 },
 "nbformat": 4,
 "nbformat_minor": 2
}
