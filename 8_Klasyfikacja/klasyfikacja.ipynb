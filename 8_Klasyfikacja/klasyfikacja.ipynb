{
 "cells": [
  {
   "cell_type": "code",
   "execution_count": 1,
   "metadata": {},
   "outputs": [],
   "source": [
    "import pandas as pd\n",
    "from sklearn.preprocessing import LabelEncoder\n",
    "from keras.utils import np_utils\n",
    "from sklearn.model_selection import train_test_split\n",
    "import numpy as np\n",
    "\n",
    "path = \"../../dane/8CPU_20RAM/3600s/all_merged.csv\""
   ]
  },
  {
   "cell_type": "code",
   "execution_count": 2,
   "metadata": {},
   "outputs": [],
   "source": [
    "# Załaduj dane\n",
    "df = pd.read_csv(path)"
   ]
  },
  {
   "cell_type": "code",
   "execution_count": 3,
   "metadata": {},
   "outputs": [],
   "source": [
    "for col in ['replicaId', 'endpointUrl_methods']:\n",
    "    le = LabelEncoder()\n",
    "    df[col] = le.fit_transform(df[col])"
   ]
  },
  {
   "cell_type": "code",
   "execution_count": 4,
   "metadata": {},
   "outputs": [],
   "source": [
    "# Wybór cech\n",
    "features = [\n",
    "            # 'timestamp',\n",
    "            # 'apiTime_methods',\n",
    "            # 'applicationTime_methods',\n",
    "            # 'databaseTime_methods',\n",
    "            'endpointUrl_methods',\n",
    "            'queueSizeForward_methods',\n",
    "            'queueSizeBack_methods',\n",
    "            'cpuUsage_stock',\n",
    "            'memoryUsage_stock',\n",
    "            'applicationTime_trading',\n",
    "            'databaseTime_trading',\n",
    "            'numberOfSellOffers_trading',\n",
    "            'numberOfBuyOffers_trading',\n",
    "            # 'cpuUsage_traffic',\n",
    "            # 'memoryUsage_traffic',\n",
    "            # 'replicaId'\n",
    "            ]\n",
    "df_features = df[features]\n",
    "\n",
    "# Kodowanie pudełek\n",
    "le = LabelEncoder()\n",
    "df['test'] = le.fit_transform(df['test'])\n",
    "\n",
    "# Kopiowanie danych\n",
    "df_encoded = df_features.copy()\n",
    "df_encoded['test'] = df['test']"
   ]
  },
  {
   "cell_type": "code",
   "execution_count": 5,
   "metadata": {},
   "outputs": [],
   "source": [
    "# Stwórz puste listy do przechowywania danych treningowych i testowych\n",
    "X_train = []\n",
    "X_test = []\n",
    "y_train = []\n",
    "y_test = []"
   ]
  },
  {
   "cell_type": "code",
   "execution_count": 6,
   "metadata": {},
   "outputs": [],
   "source": [
    "def create_windows(X, y, window_size, step_size):\n",
    "    X_windows = []\n",
    "    y_windows = []\n",
    "\n",
    "    # Przesuń okno po danych\n",
    "    for i in range(0, len(X) - window_size, step_size):\n",
    "        # Utwórz okno danych\n",
    "        X_window = X.iloc[i:i + window_size]\n",
    "        # Utwórz etykietę dla okna (etykieta ostatniej obserwacji w oknie)\n",
    "        y_window = y.iloc[i + window_size]\n",
    "\n",
    "        X_windows.append(X_window.values)\n",
    "        y_windows.append(y_window)\n",
    "\n",
    "    return np.array(X_windows), np.array(y_windows)"
   ]
  },
  {
   "cell_type": "code",
   "execution_count": 7,
   "metadata": {},
   "outputs": [],
   "source": [
    "window_size = 500\n",
    "step_size = 100\n",
    "# Dla każdego unikalnego pudełka\n",
    "for box in df_encoded['test'].unique():\n",
    "    # Wybierz tylko rekordy dla tego pudełka\n",
    "    box_data = df_encoded[df_encoded['test'] == box]\n",
    "    \n",
    "    # Oblicz punkt podziału (80% danych)\n",
    "    split_point = int(len(box_data) * 0.8)\n",
    "    \n",
    "    # Dodaj pierwsze 80% rekordów do danych treningowych\n",
    "    X_train_box = box_data.drop('test', axis=1).iloc[:split_point]\n",
    "    y_train_box = box_data['test'].iloc[:split_point]\n",
    "    \n",
    "    # Dodaj ostatnie 20% rekordów do danych testowych\n",
    "    X_test_box = box_data.drop('test', axis=1).iloc[split_point:]\n",
    "    y_test_box = box_data['test'].iloc[split_point:]\n",
    "    \n",
    "    # Stwórz okienka dla danych treningowych\n",
    "    X_train_windows, y_train_windows = create_windows(X_train_box, y_train_box, window_size, step_size)\n",
    "    \n",
    "    # Stwórz okienka dla danych testowych\n",
    "    X_test_windows, y_test_windows = create_windows(X_test_box, y_test_box, window_size, step_size)\n",
    "    \n",
    "    # Dodaj okienka do list\n",
    "    X_train.append(X_train_windows)\n",
    "    y_train.append(y_train_windows)\n",
    "    X_test.append(X_test_windows)\n",
    "    y_test.append(y_test_windows)"
   ]
  },
  {
   "cell_type": "code",
   "execution_count": 8,
   "metadata": {},
   "outputs": [],
   "source": [
    "from tensorflow.keras.models import Sequential\n",
    "from tensorflow.keras.layers import LSTM, Dense\n",
    "from keras.utils import to_categorical"
   ]
  },
  {
   "cell_type": "code",
   "execution_count": 9,
   "metadata": {},
   "outputs": [],
   "source": [
    "# Połączenie danych treningowych dla wszystkich pudełek\n",
    "X_train_combined = np.concatenate(X_train, axis=0)\n",
    "y_train_combined = np.concatenate(y_train, axis=0)"
   ]
  },
  {
   "cell_type": "code",
   "execution_count": 10,
   "metadata": {},
   "outputs": [],
   "source": [
    "# Zakodowanie etykiet w formacie one-hot encoding\n",
    "y_train_combined_encoded = to_categorical(y_train_combined, num_classes=len(df['test'].unique()))"
   ]
  },
  {
   "cell_type": "code",
   "execution_count": 11,
   "metadata": {},
   "outputs": [
    {
     "name": "stdout",
     "output_type": "stream",
     "text": [
      "Epoch 1/10\n",
      "2024/2024 [==============================] - 381s 187ms/step - loss: 2.4253 - accuracy: 0.2155\n",
      "Epoch 2/10\n",
      "2024/2024 [==============================] - 396s 196ms/step - loss: 2.2988 - accuracy: 0.2360\n",
      "Epoch 3/10\n",
      "2024/2024 [==============================] - 368s 182ms/step - loss: 2.2494 - accuracy: 0.2357\n",
      "Epoch 4/10\n",
      "2024/2024 [==============================] - 345s 170ms/step - loss: 2.3192 - accuracy: 0.2224\n",
      "Epoch 5/10\n",
      "2024/2024 [==============================] - 347s 171ms/step - loss: 2.2574 - accuracy: 0.2283\n",
      "Epoch 6/10\n",
      "2024/2024 [==============================] - 347s 172ms/step - loss: 2.3066 - accuracy: 0.2204\n",
      "Epoch 7/10\n",
      "2024/2024 [==============================] - 350s 173ms/step - loss: 2.4457 - accuracy: 0.1951\n",
      "Epoch 8/10\n",
      "2024/2024 [==============================] - 422s 208ms/step - loss: 2.4212 - accuracy: 0.2028\n",
      "Epoch 9/10\n",
      "2024/2024 [==============================] - 416s 205ms/step - loss: 2.3805 - accuracy: 0.2119\n",
      "Epoch 10/10\n",
      "2024/2024 [==============================] - 420s 207ms/step - loss: 2.4207 - accuracy: 0.2040\n"
     ]
    },
    {
     "data": {
      "text/plain": [
       "<keras.callbacks.History at 0x2247fb76410>"
      ]
     },
     "execution_count": 11,
     "metadata": {},
     "output_type": "execute_result"
    }
   ],
   "source": [
    "# Trenowanie modelu na połączonym zestawie danych\n",
    "model = Sequential()\n",
    "model.add(LSTM(100, input_shape=(window_size, X_train_combined.shape[2])))\n",
    "model.add(Dense(len(df['test'].unique()), activation='softmax'))\n",
    "model.compile(loss='categorical_crossentropy', optimizer='adam', metrics=['accuracy'])\n",
    "model.fit(X_train_combined, y_train_combined_encoded, epochs=10, batch_size=32)"
   ]
  },
  {
   "cell_type": "code",
   "execution_count": 13,
   "metadata": {},
   "outputs": [
    {
     "name": "stdout",
     "output_type": "stream",
     "text": [
      "34/34 [==============================] - 2s 49ms/step - loss: 3.0151 - accuracy: 0.0000e+00\n",
      "Test 1: Loss = 3.0151193141937256, Accuracy = 0.0\n",
      "34/34 [==============================] - 2s 49ms/step - loss: 2.9214 - accuracy: 0.0000e+00\n",
      "Test 2: Loss = 2.921444892883301, Accuracy = 0.0\n",
      "31/31 [==============================] - 2s 48ms/step - loss: 2.8317 - accuracy: 0.0000e+00\n",
      "Test 3: Loss = 2.831681251525879, Accuracy = 0.0\n",
      "33/33 [==============================] - 2s 48ms/step - loss: 2.6977 - accuracy: 0.0000e+00\n",
      "Test 4: Loss = 2.6976773738861084, Accuracy = 0.0\n",
      "26/26 [==============================] - 1s 47ms/step - loss: 3.0119 - accuracy: 0.0000e+00\n",
      "Test 5: Loss = 3.0119175910949707, Accuracy = 0.0\n",
      "30/30 [==============================] - 1s 47ms/step - loss: 2.4827 - accuracy: 0.7061\n",
      "Test 6: Loss = 2.482677459716797, Accuracy = 0.706135630607605\n",
      "16/16 [==============================] - 1s 46ms/step - loss: 3.0121 - accuracy: 0.0000e+00\n",
      "Test 7: Loss = 3.012112855911255, Accuracy = 0.0\n",
      "15/15 [==============================] - 1s 48ms/step - loss: 2.9327 - accuracy: 0.0000e+00\n",
      "Test 8: Loss = 2.932706117630005, Accuracy = 0.0\n",
      "23/23 [==============================] - 1s 48ms/step - loss: 0.1999 - accuracy: 1.0000\n",
      "Test 9: Loss = 0.1999308317899704, Accuracy = 1.0\n",
      "42/42 [==============================] - 2s 48ms/step - loss: 1.1300 - accuracy: 0.8740\n",
      "Test 10: Loss = 1.1300462484359741, Accuracy = 0.8739684820175171\n",
      "33/33 [==============================] - 2s 48ms/step - loss: 2.6483 - accuracy: 0.0000e+00\n",
      "Test 11: Loss = 2.6482632160186768, Accuracy = 0.0\n",
      "21/21 [==============================] - 1s 55ms/step - loss: 2.4396 - accuracy: 1.0000\n",
      "Test 12: Loss = 2.439598560333252, Accuracy = 1.0\n",
      "14/14 [==============================] - 1s 48ms/step - loss: 2.9732 - accuracy: 0.0000e+00\n",
      "Test 13: Loss = 2.9731979370117188, Accuracy = 0.0\n",
      "20/20 [==============================] - 1s 52ms/step - loss: 2.9024 - accuracy: 0.0000e+00\n",
      "Test 14: Loss = 2.9023663997650146, Accuracy = 0.0\n",
      "27/27 [==============================] - 2s 57ms/step - loss: 2.8446 - accuracy: 0.0000e+00\n",
      "Test 15: Loss = 2.8445773124694824, Accuracy = 0.0\n",
      "34/34 [==============================] - 2s 49ms/step - loss: 2.4788 - accuracy: 0.0000e+00\n",
      "Test 16: Loss = 2.478774309158325, Accuracy = 0.0\n",
      "39/39 [==============================] - 2s 49ms/step - loss: 2.1480 - accuracy: 0.4361\n",
      "Test 17: Loss = 2.1480462551116943, Accuracy = 0.4361269176006317\n",
      "40/40 [==============================] - 2s 61ms/step - loss: 2.3695 - accuracy: 0.2008\n",
      "Test 18: Loss = 2.3695085048675537, Accuracy = 0.20079365372657776\n"
     ]
    }
   ],
   "source": [
    "for i in range(len(X_test)):\n",
    "    y_test_encoded = to_categorical(y_test[i], num_classes=len(df['test'].unique()))\n",
    "    loss, accuracy = model.evaluate(X_test[i], y_test_encoded)\n",
    "    print(f\"Test {i+1}: Loss = {loss}, Accuracy = {accuracy}\")"
   ]
  }
 ],
 "metadata": {
  "kernelspec": {
   "display_name": "Python 3",
   "language": "python",
   "name": "python3"
  },
  "language_info": {
   "codemirror_mode": {
    "name": "ipython",
    "version": 3
   },
   "file_extension": ".py",
   "mimetype": "text/x-python",
   "name": "python",
   "nbconvert_exporter": "python",
   "pygments_lexer": "ipython3",
   "version": "3.11.3"
  },
  "orig_nbformat": 4
 },
 "nbformat": 4,
 "nbformat_minor": 2
}
