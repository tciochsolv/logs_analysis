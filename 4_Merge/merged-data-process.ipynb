{
 "cells": [
  {
   "attachments": {},
   "cell_type": "markdown",
   "metadata": {},
   "source": [
    "### Parametry"
   ]
  },
  {
   "cell_type": "code",
   "execution_count": 1,
   "metadata": {},
   "outputs": [],
   "source": [
    "import pandas as pd\n",
    "import os\n",
    "\n",
    "basepath = \"../dane/8CPU_20RAM/3600s/\"\n",
    "params_list = [\n",
    "    # {\"path\": basepath + \"2repl/\"},\n",
    "    # {\"path\": basepath + \"4repl/\"},\n",
    "    {\"path\": basepath + \"5repl/\"},\n",
    "    # {\"path\": basepath + \"6repl/\"},\n",
    "    # {\"path\": basepath + \"A1_100-A2_100-A3_100/\"},\n",
    "    {\"path\": basepath + \"A1_200-A3_100/\"},\n",
    "    # {\"path\": basepath + \"A2_200/\"},\n",
    "    # {\"path\": basepath + \"A2_200-A3_100/\"},\n",
    "    {\"path\": basepath + \"A3_200/\"},\n",
    "    {\"path\": basepath + \"req_250ms/\"},\n",
    "    # {\"path\": basepath + \"req_500ms/\"},\n",
    "    # {\"path\": basepath + \"req_1000ms/\"},\n",
    "    {\"path\": basepath + \"req_2000ms/\"},\n",
    "    # {\"path\": basepath + \"trans_60s/\"},\n",
    "    # {\"path\": basepath + \"trans_120s/\"},\n",
    "    # {\"path\": basepath + \"trans_180s/\"},\n",
    "    {\"path\": basepath + \"trans_240s/\"},\n",
    "    {\"path\": basepath + \"trans_300s/\"},\n",
    "]"
   ]
  },
  {
   "attachments": {},
   "cell_type": "markdown",
   "metadata": {},
   "source": [
    "### Sprawdzenie plików"
   ]
  },
  {
   "cell_type": "code",
   "execution_count": 2,
   "metadata": {},
   "outputs": [
    {
     "name": "stdout",
     "output_type": "stream",
     "text": [
      "Wszystkie pliki mają te same kolumny.\n"
     ]
    }
   ],
   "source": [
    "# Odczytaj kolumny z pierwszego pliku jako wzór\n",
    "first_file_path = params_list[0]['path'] + 'merged.csv'\n",
    "reference_columns = pd.read_csv(first_file_path).columns\n",
    "\n",
    "# Sprawdź kolumny we wszystkich pozostałych plikach\n",
    "same_columns = True\n",
    "for param in params_list[1:]:\n",
    "    file_path = param['path'] + 'merged.csv'\n",
    "    df = pd.read_csv(file_path)\n",
    "    \n",
    "    if not df.columns.equals(reference_columns):\n",
    "        same_columns = False\n",
    "        print(f\"Kolumny pliku {file_path} różnią się od wzorca.\")\n",
    "        break\n",
    "\n",
    "if same_columns:\n",
    "    print(\"Wszystkie pliki mają te same kolumny.\")\n",
    "else:\n",
    "    print(\"Pliki nie mają tych samych kolumn.\")"
   ]
  },
  {
   "attachments": {},
   "cell_type": "markdown",
   "metadata": {},
   "source": [
    "### Złączenie danych"
   ]
  },
  {
   "cell_type": "code",
   "execution_count": 3,
   "metadata": {},
   "outputs": [],
   "source": [
    "dataframes = []\n",
    "for param in params_list:\n",
    "    file_path = param['path'] + 'merged.csv'\n",
    "    df = pd.read_csv(file_path)\n",
    "    \n",
    "    # Dodaj kolumnę \"test\" z informacją o folderze\n",
    "    folder_name = os.path.basename(os.path.normpath(param['path']))\n",
    "    df.insert(0, 'test', folder_name)\n",
    "    \n",
    "    dataframes.append(df)\n",
    "\n",
    "# Połącz wszystkie DataFrames w jeden\n",
    "merged_df = pd.concat(dataframes, ignore_index=True)\n",
    "\n",
    "# Zapisz połączony DataFrame do pliku CSV\n",
    "output_file_path = basepath + \"7_merged.csv\"\n",
    "merged_df.to_csv(output_file_path, index=False)"
   ]
  }
 ],
 "metadata": {
  "kernelspec": {
   "display_name": "Python 3",
   "language": "python",
   "name": "python3"
  },
  "language_info": {
   "codemirror_mode": {
    "name": "ipython",
    "version": 3
   },
   "file_extension": ".py",
   "mimetype": "text/x-python",
   "name": "python",
   "nbconvert_exporter": "python",
   "pygments_lexer": "ipython3",
   "version": "3.11.3"
  },
  "orig_nbformat": 4
 },
 "nbformat": 4,
 "nbformat_minor": 2
}
